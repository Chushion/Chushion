{
  "nbformat": 4,
  "nbformat_minor": 0,
  "metadata": {
    "colab": {
      "name": "HW2.ipynb",
      "provenance": [],
      "collapsed_sections": [
        "Xfv76jJXZ4yx",
        "_llVQYv4cl2x",
        "KwPPVwOXaHTD",
        "MQx5-5jiZ4q7",
        "JZsQNf_XbCvk",
        "I-3vj5jnbafc",
        "k0AvkKKGcIsb",
        "wiPbY4jRco0H",
        "obOdloD8cyUn",
        "amPyrF1idAZp",
        "9ZSHVi6xdfqE",
        "EgOsSr-Ad3SE",
        "oDKxg5u_ixSu"
      ],
      "authorship_tag": "ABX9TyNb87yYt4nU9ugQqqGb0Tt/",
      "include_colab_link": true
    },
    "kernelspec": {
      "name": "python3",
      "display_name": "Python 3"
    },
    "language_info": {
      "name": "python"
    }
  },
  "cells": [
    {
      "cell_type": "markdown",
      "metadata": {
        "id": "view-in-github",
        "colab_type": "text"
      },
      "source": [
        "<a href=\"https://colab.research.google.com/github/Chushion/Chushion/blob/master/HW2.ipynb\" target=\"_parent\"><img src=\"https://colab.research.google.com/assets/colab-badge.svg\" alt=\"Open In Colab\"/></a>"
      ]
    },
    {
      "cell_type": "markdown",
      "metadata": {
        "id": "Xfv76jJXZ4yx"
      },
      "source": [
        "# 딥러닝 간단한 실습 예제\n",
        "\n",
        "from https://blog.naver.com/okkam76/221919274832\n",
        "\n",
        "\n",
        "강의에서 딥러닝을 처음 접하게 되어, 보다 쉽게 딥러닝을 다룬 예제를 통하여 개념을 정립하고 넘어가고자 하였다.\n",
        "\n",
        "이에, 각종 포털사이트를 통하여 적합한 예제를 검색하였고, 해당 블로그의 글이 직관적으로 이해하기에 가장 좋다고 생각하여 이를 HW2로서 가져와 보았다."
      ]
    },
    {
      "cell_type": "markdown",
      "metadata": {
        "id": "_llVQYv4cl2x"
      },
      "source": [
        "## 데이터셋 준비"
      ]
    },
    {
      "cell_type": "markdown",
      "metadata": {
        "id": "KwPPVwOXaHTD"
      },
      "source": [
        "#### x값 데이터 만들기\n",
        "numpy 라이브러리를 통하여 -10부터 9까지의 20개의 정수 배열을 만든다. \n",
        "\n",
        "이후, 변수 x에 저장한다."
      ]
    },
    {
      "cell_type": "code",
      "metadata": {
        "id": "_6tV1cUBaR9-"
      },
      "source": [
        "import numpy as np"
      ],
      "execution_count": 102,
      "outputs": []
    },
    {
      "cell_type": "code",
      "metadata": {
        "id": "eQoAjUyyZ5ED"
      },
      "source": [
        "x = np.arange(-10, 10, 1)"
      ],
      "execution_count": 103,
      "outputs": []
    },
    {
      "cell_type": "code",
      "metadata": {
        "colab": {
          "base_uri": "https://localhost:8080/"
        },
        "id": "TnQGxmh4aqa8",
        "outputId": "54cd30a7-37c1-4a6b-b8b6-44274a48f420"
      },
      "source": [
        "x"
      ],
      "execution_count": 104,
      "outputs": [
        {
          "output_type": "execute_result",
          "data": {
            "text/plain": [
              "array([-10,  -9,  -8,  -7,  -6,  -5,  -4,  -3,  -2,  -1,   0,   1,   2,\n",
              "         3,   4,   5,   6,   7,   8,   9])"
            ]
          },
          "metadata": {
            "tags": []
          },
          "execution_count": 104
        }
      ]
    },
    {
      "cell_type": "markdown",
      "metadata": {
        "id": "MQx5-5jiZ4q7"
      },
      "source": [
        "#### y값 데이터 만들기\n",
        "\n",
        "일차함수 y = 2x-1을 사용하여 변수 y를 만든다."
      ]
    },
    {
      "cell_type": "code",
      "metadata": {
        "id": "okouaWfLZylB"
      },
      "source": [
        "y = 2*x - 1"
      ],
      "execution_count": 105,
      "outputs": []
    },
    {
      "cell_type": "code",
      "metadata": {
        "colab": {
          "base_uri": "https://localhost:8080/"
        },
        "id": "5UAC9Bxza_-C",
        "outputId": "fd3f828f-80c6-4962-afbe-c347b01bd407"
      },
      "source": [
        "y"
      ],
      "execution_count": 106,
      "outputs": [
        {
          "output_type": "execute_result",
          "data": {
            "text/plain": [
              "array([-21, -19, -17, -15, -13, -11,  -9,  -7,  -5,  -3,  -1,   1,   3,\n",
              "         5,   7,   9,  11,  13,  15,  17])"
            ]
          },
          "metadata": {
            "tags": []
          },
          "execution_count": 106
        }
      ]
    },
    {
      "cell_type": "markdown",
      "metadata": {
        "id": "JZsQNf_XbCvk"
      },
      "source": [
        "#### 그래프\n",
        "\n",
        "matplotlib 라이브러리를 통해 \n",
        "x, y의 그래프를 그린다.\n",
        "\n",
        "이를 통해 x와 y의 관계를 시각적으로 확인해본다."
      ]
    },
    {
      "cell_type": "code",
      "metadata": {
        "id": "6nwQmLBkbCZn"
      },
      "source": [
        "import matplotlib.pyplot as plt"
      ],
      "execution_count": 107,
      "outputs": []
    },
    {
      "cell_type": "code",
      "metadata": {
        "colab": {
          "base_uri": "https://localhost:8080/",
          "height": 283
        },
        "id": "t6WxMevqbAAo",
        "outputId": "67eb03ed-940c-49f1-c554-2e199f1864ff"
      },
      "source": [
        "plt.plot(x,y)"
      ],
      "execution_count": 108,
      "outputs": [
        {
          "output_type": "execute_result",
          "data": {
            "text/plain": [
              "[<matplotlib.lines.Line2D at 0x7f3bc9e24490>]"
            ]
          },
          "metadata": {
            "tags": []
          },
          "execution_count": 108
        },
        {
          "output_type": "display_data",
          "data": {
            "image/png": "[encoded data removed]",
            "text/plain": [
              "<Figure size 432x288 with 1 Axes>"
            ]
          },
          "metadata": {
            "tags": [],
            "needs_background": "light"
          }
        }
      ]
    },
    {
      "cell_type": "markdown",
      "metadata": {
        "id": "I-3vj5jnbafc"
      },
      "source": [
        "#### x 배열 원소값의 순서를 무작위로 바꾸기\n",
        "\n",
        "x 배열의 순서를 random하게 바꾸고,이에 매칭되는 y값을 순서대로 배열한다."
      ]
    },
    {
      "cell_type": "code",
      "metadata": {
        "colab": {
          "base_uri": "https://localhost:8080/"
        },
        "id": "KMO_lQXBbmk8",
        "outputId": "06976f35-45f5-48dd-9502-46aacab6958d"
      },
      "source": [
        "print(\"x 배열의 원소 개수: \", x.shape[0])"
      ],
      "execution_count": 109,
      "outputs": [
        {
          "output_type": "stream",
          "text": [
            "x 배열의 원소 개수:  20\n"
          ],
          "name": "stdout"
        }
      ]
    },
    {
      "cell_type": "code",
      "metadata": {
        "id": "PhR_puu3bADR"
      },
      "source": [
        "idx = np.arange(x.shape[0])"
      ],
      "execution_count": 110,
      "outputs": []
    },
    {
      "cell_type": "code",
      "metadata": {
        "colab": {
          "base_uri": "https://localhost:8080/"
        },
        "id": "UJRdkKn_bYAG",
        "outputId": "82c6da25-714d-46da-8594-f2dd0b7f3313"
      },
      "source": [
        "print(\"기존 인덱스: \", idx)"
      ],
      "execution_count": 111,
      "outputs": [
        {
          "output_type": "stream",
          "text": [
            "기존 인덱스:  [ 0  1  2  3  4  5  6  7  8  9 10 11 12 13 14 15 16 17 18 19]\n"
          ],
          "name": "stdout"
        }
      ]
    },
    {
      "cell_type": "code",
      "metadata": {
        "id": "uaTXAoKdbAG5"
      },
      "source": [
        "np.random.shuffle(idx)"
      ],
      "execution_count": 112,
      "outputs": []
    },
    {
      "cell_type": "code",
      "metadata": {
        "colab": {
          "base_uri": "https://localhost:8080/"
        },
        "id": "IA97FeEwbAJo",
        "outputId": "d9ca1ff4-e5e3-4b2a-dca7-2422ab9dddf3"
      },
      "source": [
        "print(\"섞인 인덱스: \", idx)"
      ],
      "execution_count": 113,
      "outputs": [
        {
          "output_type": "stream",
          "text": [
            "섞인 인덱스:  [13  2 12 14  8 17  7 11 19 18  0  6  4  1 16 10 15  5  9  3]\n"
          ],
          "name": "stdout"
        }
      ]
    },
    {
      "cell_type": "code",
      "metadata": {
        "id": "GevNCwyKbAMI"
      },
      "source": [
        "x = x[idx]\n",
        "y = y[idx]"
      ],
      "execution_count": 114,
      "outputs": []
    },
    {
      "cell_type": "code",
      "metadata": {
        "colab": {
          "base_uri": "https://localhost:8080/"
        },
        "id": "lfc95RFebAOM",
        "outputId": "a3c2cff1-eae6-4714-f881-6dfb59fba909"
      },
      "source": [
        "print (\"x: \", x)\n",
        "print (\"y: \", y)"
      ],
      "execution_count": 115,
      "outputs": [
        {
          "output_type": "stream",
          "text": [
            "x:  [  3  -8   2   4  -2   7  -3   1   9   8 -10  -4  -6  -9   6   0   5  -5\n",
            "  -1  -7]\n",
            "y:  [  5 -17   3   7  -5  13  -7   1  17  15 -21  -9 -13 -19  11  -1   9 -11\n",
            "  -3 -15]\n"
          ],
          "name": "stdout"
        }
      ]
    },
    {
      "cell_type": "markdown",
      "metadata": {
        "id": "k0AvkKKGcIsb"
      },
      "source": [
        "#### 차원 변환\n",
        "\n",
        "1차원 형태의 x 배열을 2차원 형태로 변환한다.\n",
        "\n",
        "일반적으로 머신러닝 알고리즘에서 x 변수의 데이터 값 배열은 가로 방향으로 긴 형태가 아니라 세로 방향으로 긴 형태로 만들기 때문이다."
      ]
    },
    {
      "cell_type": "code",
      "metadata": {
        "colab": {
          "base_uri": "https://localhost:8080/"
        },
        "id": "R0pgYGTkbAQW",
        "outputId": "9ddb1b92-1223-4e90-a4bb-1f2b15943afc"
      },
      "source": [
        "x_new = x.reshape(-1, 1)\n",
        "x_new"
      ],
      "execution_count": 116,
      "outputs": [
        {
          "output_type": "execute_result",
          "data": {
            "text/plain": [
              "array([[  3],\n",
              "       [ -8],\n",
              "       [  2],\n",
              "       [  4],\n",
              "       [ -2],\n",
              "       [  7],\n",
              "       [ -3],\n",
              "       [  1],\n",
              "       [  9],\n",
              "       [  8],\n",
              "       [-10],\n",
              "       [ -4],\n",
              "       [ -6],\n",
              "       [ -9],\n",
              "       [  6],\n",
              "       [  0],\n",
              "       [  5],\n",
              "       [ -5],\n",
              "       [ -1],\n",
              "       [ -7]])"
            ]
          },
          "metadata": {
            "tags": []
          },
          "execution_count": 116
        }
      ]
    },
    {
      "cell_type": "markdown",
      "metadata": {
        "id": "wiPbY4jRco0H"
      },
      "source": [
        "## 선형회귀모델 (sklearn)"
      ]
    },
    {
      "cell_type": "markdown",
      "metadata": {
        "id": "obOdloD8cyUn"
      },
      "source": [
        "#### 필요한 라이브러리 불러오기\n",
        "\n",
        "사이킷런(sklearn) 라이브러리를 통해 선형회귀분석을 진행할 준비를 한다.\n",
        "\n",
        "LinearRegression 클래스 함수를 통해 선형회귀분석을 처리한다."
      ]
    },
    {
      "cell_type": "code",
      "metadata": {
        "id": "P5Js8ZQRcxT5"
      },
      "source": [
        "from sklearn.linear_model import LinearRegression"
      ],
      "execution_count": 117,
      "outputs": []
    },
    {
      "cell_type": "markdown",
      "metadata": {
        "id": "amPyrF1idAZp"
      },
      "source": [
        "#### 머신러닝 모델 객체 정의하기\n",
        "\n",
        "LinearRegression 클래스 객체를 정의하여 변수 lr에 저장한다.\n",
        "\n",
        "LinearRegression 클래스 함수의 인수에 다양한 파라미터를 설정할 수 있다. \\\n",
        "(y-intercept를 계산하지 않거나, 모델 학습에 사용할 CPU 개수 지정 등에 사용할 수 있다)\n"
      ]
    },
    {
      "cell_type": "code",
      "metadata": {
        "id": "xBdVpW0Ec_ib"
      },
      "source": [
        "lr = LinearRegression()"
      ],
      "execution_count": 118,
      "outputs": []
    },
    {
      "cell_type": "markdown",
      "metadata": {
        "id": "9ZSHVi6xdfqE"
      },
      "source": [
        "#### 주어진 데이터로 모델 학습시키기\n",
        "\n",
        "앞서, y = 2x-1이라는 식을 정의한 바 있다.\n",
        "\n",
        "fit Method를 통해, 예측값의 오차가 가장 작은 함수 관계식을 찾는다."
      ]
    },
    {
      "cell_type": "code",
      "metadata": {
        "colab": {
          "base_uri": "https://localhost:8080/"
        },
        "id": "bIyvfV5Ecq7y",
        "outputId": "2ee7c28a-cc6a-4261-fa65-a41a1bd19daf"
      },
      "source": [
        "lr.fit(x_new, y)"
      ],
      "execution_count": 119,
      "outputs": [
        {
          "output_type": "execute_result",
          "data": {
            "text/plain": [
              "LinearRegression(copy_X=True, fit_intercept=True, n_jobs=None, normalize=False)"
            ]
          },
          "metadata": {
            "tags": []
          },
          "execution_count": 119
        }
      ]
    },
    {
      "cell_type": "code",
      "metadata": {
        "colab": {
          "base_uri": "https://localhost:8080/"
        },
        "id": "qJhp68wDcrJg",
        "outputId": "c1ce2e96-8859-45e4-96e5-a0a7806ddca3"
      },
      "source": [
        "print(\"기울기: \", lr.coef_)\n",
        "print(\"y절편: \", lr.intercept_)"
      ],
      "execution_count": 120,
      "outputs": [
        {
          "output_type": "stream",
          "text": [
            "기울기:  [2.]\n",
            "y절편:  -0.9999999999999996\n"
          ],
          "name": "stdout"
        }
      ]
    },
    {
      "cell_type": "markdown",
      "metadata": {
        "id": "EgOsSr-Ad3SE"
      },
      "source": [
        "#### 새로운 x 데이터에 대한 y값 예측하기\n",
        "\n",
        "훈련을 마친 선형회귀 모델을 이용하여 새로운 데이터에 대한 목표값을 예측한다.\n",
        "\n",
        "x_test 변수에 새로운 데이터 셋을 저장하고, 11~15 범위의 정수를 모델의 x 변수 입력 형태에 맞게 입력한다."
      ]
    },
    {
      "cell_type": "code",
      "metadata": {
        "colab": {
          "base_uri": "https://localhost:8080/"
        },
        "id": "BMJHMfgOd2yb",
        "outputId": "fd8b9853-6c96-460e-f2cb-13ae7c3681e9"
      },
      "source": [
        "x_test = np.arange(11, 16, 1). reshape(-1, 1)\n",
        "x_test"
      ],
      "execution_count": 121,
      "outputs": [
        {
          "output_type": "execute_result",
          "data": {
            "text/plain": [
              "array([[11],\n",
              "       [12],\n",
              "       [13],\n",
              "       [14],\n",
              "       [15]])"
            ]
          },
          "metadata": {
            "tags": []
          },
          "execution_count": 121
        }
      ]
    },
    {
      "cell_type": "markdown",
      "metadata": {
        "id": "sVfK6DiJeM21"
      },
      "source": [
        "predict Method를 통해 y값을 예측한다.\n",
        "\n",
        "예측값을 y_hat 변수에 저장한다."
      ]
    },
    {
      "cell_type": "code",
      "metadata": {
        "colab": {
          "base_uri": "https://localhost:8080/"
        },
        "id": "aky-5ikSeUmg",
        "outputId": "b72299e3-fff8-48d3-9967-f2ed91d2d301"
      },
      "source": [
        "y_hat = lr.predict(x_test)\n",
        "y_hat"
      ],
      "execution_count": 122,
      "outputs": [
        {
          "output_type": "execute_result",
          "data": {
            "text/plain": [
              "array([21., 23., 25., 27., 29.])"
            ]
          },
          "metadata": {
            "tags": []
          },
          "execution_count": 122
        }
      ]
    },
    {
      "cell_type": "markdown",
      "metadata": {
        "id": "X79070H1gCDd"
      },
      "source": [
        "## Tensorflow, Keras"
      ]
    },
    {
      "cell_type": "markdown",
      "metadata": {
        "id": "klYr30IEgG3L"
      },
      "source": [
        "데이터 분포가 복잡한 경우, \\\n",
        "선형관계를 인식하지 못한 상태에서도 머신러닝 또는 딥러닝 학습을 통해 관계를 찾아낼 수 있다. \n",
        "\n",
        "즉, 복잡하거나 잘 드러나지 않는 패턴을 찾을 수 있는 것이다."
      ]
    },
    {
      "cell_type": "markdown",
      "metadata": {
        "id": "PNfpIXW_gQT4"
      },
      "source": [
        "#### Tensorflow(Keras) 불러오기"
      ]
    },
    {
      "cell_type": "code",
      "metadata": {
        "id": "nd9SVL9_gTos"
      },
      "source": [
        "from tensorflow import keras\n",
        "from tensorflow.keras.layers import Dense"
      ],
      "execution_count": 123,
      "outputs": []
    },
    {
      "cell_type": "markdown",
      "metadata": {
        "id": "IOlxKWslga1p"
      },
      "source": [
        "#### 딥러닝 모델 객체 정의하기\n",
        "\n",
        "Sequential 클래스 함수를 사용하여 신경망 객체를 생성한다.\n",
        "\n",
        "이는 심층신경망(DNN)을 구성할 때 사용한다.\n",
        "\n",
        "또한, compile 명령어를 사용하여, optimizer 함수와 loss함수를 정의한다. \\\n",
        "(optimizer 함수는 오차를 줄이는 데에 사용하는 최적화 알고리즘이고, loss 함수는 예측값의 오차를 측정하는 기준이 된다.)"
      ]
    },
    {
      "cell_type": "code",
      "metadata": {
        "id": "Zn9BzJfHg-qe"
      },
      "source": [
        "dnn = keras.Sequential()"
      ],
      "execution_count": 124,
      "outputs": []
    },
    {
      "cell_type": "code",
      "metadata": {
        "id": "5ig1q_fKg-oU"
      },
      "source": [
        "dnn.add(Dense(units=1, input_shape=(1,)))"
      ],
      "execution_count": 125,
      "outputs": []
    },
    {
      "cell_type": "code",
      "metadata": {
        "id": "H434n1aug-mK"
      },
      "source": [
        "dnn.compile(optimizer='sgd', loss='mse')"
      ],
      "execution_count": 126,
      "outputs": []
    },
    {
      "cell_type": "markdown",
      "metadata": {
        "id": "QW0KeZWChL3Z"
      },
      "source": [
        "summary 명령을 이용하여 인공신경망의 구조를 확인한다."
      ]
    },
    {
      "cell_type": "code",
      "metadata": {
        "colab": {
          "base_uri": "https://localhost:8080/"
        },
        "id": "frSP46ryhLfm",
        "outputId": "10b83326-a84f-4ace-d0d0-b699614954a7"
      },
      "source": [
        "dnn.summary()"
      ],
      "execution_count": 127,
      "outputs": [
        {
          "output_type": "stream",
          "text": [
            "Model: \"sequential_3\"\n",
            "_________________________________________________________________\n",
            "Layer (type)                 Output Shape              Param #   \n",
            "=================================================================\n",
            "dense_7 (Dense)              (None, 1)                 2         \n",
            "=================================================================\n",
            "Total params: 2\n",
            "Trainable params: 2\n",
            "Non-trainable params: 0\n",
            "_________________________________________________________________\n"
          ],
          "name": "stdout"
        }
      ]
    },
    {
      "cell_type": "markdown",
      "metadata": {
        "id": "SPB0GToGhTL6"
      },
      "source": [
        "#### 주어진 데이터로 모델 학습시키기\n",
        "학습을 위한 설명변수 데이터(x_new)와 목표값인 타겟 레이블 데이터(y)를 신경망 모델에 주입하고 학습한다.\n",
        "\n",
        "학습 과정을 통해서 목표값과 예측값의 오차가 가장 작은 함수 관계식을 찾는다.\n",
        "\n",
        "2개의 파라미터 값을 조금씩 변화시키면서 최적화된 해를 찾는 것이다.\n",
        "\n",
        "7주차 강의에서 정의한 바와 같이, epochs = 10은 이와 같은 학습 과정을 10번 반복한다는 것이다."
      ]
    },
    {
      "cell_type": "code",
      "metadata": {
        "colab": {
          "base_uri": "https://localhost:8080/"
        },
        "id": "N9OBsKw9g-j5",
        "outputId": "ecfb7fc6-61c8-41d5-da8e-ad2278e75414"
      },
      "source": [
        "dnn.fit(x_new, y, epochs = 10)"
      ],
      "execution_count": 128,
      "outputs": [
        {
          "output_type": "stream",
          "text": [
            "Epoch 1/10\n",
            "1/1 [==============================] - 0s 279ms/step - loss: 458.6675\n",
            "Epoch 2/10\n",
            "1/1 [==============================] - 0s 5ms/step - loss: 50.6545\n",
            "Epoch 3/10\n",
            "1/1 [==============================] - 0s 9ms/step - loss: 6.2337\n",
            "Epoch 4/10\n",
            "1/1 [==============================] - 0s 6ms/step - loss: 1.3724\n",
            "Epoch 5/10\n",
            "1/1 [==============================] - 0s 5ms/step - loss: 0.8162\n",
            "Epoch 6/10\n",
            "1/1 [==============================] - 0s 5ms/step - loss: 0.7295\n",
            "Epoch 7/10\n",
            "1/1 [==============================] - 0s 17ms/step - loss: 0.6949\n",
            "Epoch 8/10\n",
            "1/1 [==============================] - 0s 13ms/step - loss: 0.6669\n",
            "Epoch 9/10\n",
            "1/1 [==============================] - 0s 6ms/step - loss: 0.6407\n",
            "Epoch 10/10\n",
            "1/1 [==============================] - 0s 6ms/step - loss: 0.6155\n"
          ],
          "name": "stdout"
        },
        {
          "output_type": "execute_result",
          "data": {
            "text/plain": [
              "<tensorflow.python.keras.callbacks.History at 0x7f3bca3210d0>"
            ]
          },
          "metadata": {
            "tags": []
          },
          "execution_count": 128
        }
      ]
    },
    {
      "cell_type": "markdown",
      "metadata": {
        "id": "26HaYtl7htEL"
      },
      "source": [
        "새로운 x데이터에 대한 y값 예측하기\n",
        "\n",
        "x_test 변수의 데이터를 모델에 주입한다.\n",
        "\n",
        "predict Method를 사용하여 y값을 예측한다."
      ]
    },
    {
      "cell_type": "code",
      "metadata": {
        "id": "5gR58fstg-cR"
      },
      "source": [
        "y_hat_dnn = dnn.predict(x_test)"
      ],
      "execution_count": 129,
      "outputs": []
    },
    {
      "cell_type": "code",
      "metadata": {
        "colab": {
          "base_uri": "https://localhost:8080/"
        },
        "id": "kXyi5zu1iLKR",
        "outputId": "701c74db-3652-404c-c7d6-0b66e2047200"
      },
      "source": [
        "y_hat_dnn"
      ],
      "execution_count": 130,
      "outputs": [
        {
          "output_type": "execute_result",
          "data": {
            "text/plain": [
              "array([[21.901806],\n",
              "       [23.913622],\n",
              "       [25.925436],\n",
              "       [27.937252],\n",
              "       [29.949066]], dtype=float32)"
            ]
          },
          "metadata": {
            "tags": []
          },
          "execution_count": 130
        }
      ]
    },
    {
      "cell_type": "markdown",
      "metadata": {
        "id": "PcIq9yLpgm0S"
      },
      "source": [
        "\\"
      ]
    },
    {
      "cell_type": "markdown",
      "metadata": {
        "id": "oDKxg5u_ixSu"
      },
      "source": [
        "# 타이타닉 생존자 예측\n",
        "\n",
        "from http://melonicedlatte.com/datascience/2019/10/19/140600.html\n",
        "\n",
        "앞서 직관적이고 쉬운 예제로 딥러닝을 이해해 보았다.\n",
        "\n",
        "그렇다면, 실생활에서 이는 어떻게 적용될 수 있을까? \n",
        "\n",
        "가장 유명한 예제인 '타이타닉 생존자 예측'을 통하여 이를 실행해보았다."
      ]
    },
    {
      "cell_type": "markdown",
      "metadata": {
        "id": "OFg2YvCUjUcQ"
      },
      "source": [
        "#### Introduction & Data 확인"
      ]
    },
    {
      "cell_type": "code",
      "metadata": {
        "colab": {
          "base_uri": "https://localhost:8080/"
        },
        "id": "56Zdfj6ojMdc",
        "outputId": "f1724343-5d43-4a77-a763-f98071b43f1a"
      },
      "source": [
        "import pandas as pd\n",
        "from google.colab import drive\n",
        "drive.mount('/content/gdrive')"
      ],
      "execution_count": 131,
      "outputs": [
        {
          "output_type": "stream",
          "text": [
            "Drive already mounted at /content/gdrive; to attempt to forcibly remount, call drive.mount(\"/content/gdrive\", force_remount=True).\n"
          ],
          "name": "stdout"
        }
      ]
    },
    {
      "cell_type": "code",
      "metadata": {
        "id": "WD_be54hjbV_"
      },
      "source": [
        "train_x = pd.read_csv(\"/content/gdrive/My Drive/Colab Notebooks/input/titanic/train.csv\", sep=',')\n",
        "test_x = pd.read_csv(\"/content/gdrive/My Drive/Colab Notebooks/input/titanic/test.csv\", sep=',')"
      ],
      "execution_count": 132,
      "outputs": []
    },
    {
      "cell_type": "markdown",
      "metadata": {
        "id": "xIgG_gN8olzY"
      },
      "source": [
        "데이터 구조 확인"
      ]
    },
    {
      "cell_type": "code",
      "metadata": {
        "colab": {
          "base_uri": "https://localhost:8080/",
          "height": 204
        },
        "id": "LaduGMcfjblF",
        "outputId": "f3b3fabf-e70a-41cb-a27a-89b0267fb810"
      },
      "source": [
        "train_x.head(5)"
      ],
      "execution_count": 133,
      "outputs": [
        {
          "output_type": "execute_result",
          "data": {
            "text/html": [
              "<div>\n",
              "<style scoped>\n",
              "    .dataframe tbody tr th:only-of-type {\n",
              "        vertical-align: middle;\n",
              "    }\n",
              "\n",
              "    .dataframe tbody tr th {\n",
              "        vertical-align: top;\n",
              "    }\n",
              "\n",
              "    .dataframe thead th {\n",
              "        text-align: right;\n",
              "    }\n",
              "</style>\n",
              "<table border=\"1\" class=\"dataframe\">\n",
              "  <thead>\n",
              "    <tr style=\"text-align: right;\">\n",
              "      <th></th>\n",
              "      <th>PassengerId</th>\n",
              "      <th>Survived</th>\n",
              "      <th>Pclass</th>\n",
              "      <th>Name</th>\n",
              "      <th>Sex</th>\n",
              "      <th>Age</th>\n",
              "      <th>SibSp</th>\n",
              "      <th>Parch</th>\n",
              "      <th>Ticket</th>\n",
              "      <th>Fare</th>\n",
              "      <th>Cabin</th>\n",
              "      <th>Embarked</th>\n",
              "    </tr>\n",
              "  </thead>\n",
              "  <tbody>\n",
              "    <tr>\n",
              "      <th>0</th>\n",
              "      <td>1</td>\n",
              "      <td>0</td>\n",
              "      <td>3</td>\n",
              "      <td>Braund, Mr. Owen Harris</td>\n",
              "      <td>male</td>\n",
              "      <td>22.0</td>\n",
              "      <td>1</td>\n",
              "      <td>0</td>\n",
              "      <td>A/5 21171</td>\n",
              "      <td>7.2500</td>\n",
              "      <td>NaN</td>\n",
              "      <td>S</td>\n",
              "    </tr>\n",
              "    <tr>\n",
              "      <th>1</th>\n",
              "      <td>2</td>\n",
              "      <td>1</td>\n",
              "      <td>1</td>\n",
              "      <td>Cumings, Mrs. John Bradley (Florence Briggs Th...</td>\n",
              "      <td>female</td>\n",
              "      <td>38.0</td>\n",
              "      <td>1</td>\n",
              "      <td>0</td>\n",
              "      <td>PC 17599</td>\n",
              "      <td>71.2833</td>\n",
              "      <td>C85</td>\n",
              "      <td>C</td>\n",
              "    </tr>\n",
              "    <tr>\n",
              "      <th>2</th>\n",
              "      <td>3</td>\n",
              "      <td>1</td>\n",
              "      <td>3</td>\n",
              "      <td>Heikkinen, Miss. Laina</td>\n",
              "      <td>female</td>\n",
              "      <td>26.0</td>\n",
              "      <td>0</td>\n",
              "      <td>0</td>\n",
              "      <td>STON/O2. 3101282</td>\n",
              "      <td>7.9250</td>\n",
              "      <td>NaN</td>\n",
              "      <td>S</td>\n",
              "    </tr>\n",
              "    <tr>\n",
              "      <th>3</th>\n",
              "      <td>4</td>\n",
              "      <td>1</td>\n",
              "      <td>1</td>\n",
              "      <td>Futrelle, Mrs. Jacques Heath (Lily May Peel)</td>\n",
              "      <td>female</td>\n",
              "      <td>35.0</td>\n",
              "      <td>1</td>\n",
              "      <td>0</td>\n",
              "      <td>113803</td>\n",
              "      <td>53.1000</td>\n",
              "      <td>C123</td>\n",
              "      <td>S</td>\n",
              "    </tr>\n",
              "    <tr>\n",
              "      <th>4</th>\n",
              "      <td>5</td>\n",
              "      <td>0</td>\n",
              "      <td>3</td>\n",
              "      <td>Allen, Mr. William Henry</td>\n",
              "      <td>male</td>\n",
              "      <td>35.0</td>\n",
              "      <td>0</td>\n",
              "      <td>0</td>\n",
              "      <td>373450</td>\n",
              "      <td>8.0500</td>\n",
              "      <td>NaN</td>\n",
              "      <td>S</td>\n",
              "    </tr>\n",
              "  </tbody>\n",
              "</table>\n",
              "</div>"
            ],
            "text/plain": [
              "   PassengerId  Survived  Pclass  ...     Fare Cabin  Embarked\n",
              "0            1         0       3  ...   7.2500   NaN         S\n",
              "1            2         1       1  ...  71.2833   C85         C\n",
              "2            3         1       3  ...   7.9250   NaN         S\n",
              "3            4         1       1  ...  53.1000  C123         S\n",
              "4            5         0       3  ...   8.0500   NaN         S\n",
              "\n",
              "[5 rows x 12 columns]"
            ]
          },
          "metadata": {
            "tags": []
          },
          "execution_count": 133
        }
      ]
    },
    {
      "cell_type": "markdown",
      "metadata": {
        "id": "u0ylvyq9oob-"
      },
      "source": [
        "값이 들어가지 않은 데이터의 수 확인"
      ]
    },
    {
      "cell_type": "code",
      "metadata": {
        "colab": {
          "base_uri": "https://localhost:8080/"
        },
        "id": "RQ_cexFBjbnS",
        "outputId": "9ffffb4b-c928-47fc-f954-cd19e7d4701f"
      },
      "source": [
        "train_x.isnull().sum()"
      ],
      "execution_count": 134,
      "outputs": [
        {
          "output_type": "execute_result",
          "data": {
            "text/plain": [
              "PassengerId      0\n",
              "Survived         0\n",
              "Pclass           0\n",
              "Name             0\n",
              "Sex              0\n",
              "Age            177\n",
              "SibSp            0\n",
              "Parch            0\n",
              "Ticket           0\n",
              "Fare             0\n",
              "Cabin          687\n",
              "Embarked         2\n",
              "dtype: int64"
            ]
          },
          "metadata": {
            "tags": []
          },
          "execution_count": 134
        }
      ]
    },
    {
      "cell_type": "markdown",
      "metadata": {
        "id": "hN09rip5o1Ll"
      },
      "source": [
        "## Visualization (시각화)"
      ]
    },
    {
      "cell_type": "code",
      "metadata": {
        "id": "mDYfa5yDjbpj"
      },
      "source": [
        "import seaborn as sns\n",
        "import matplotlib.pyplot as plt"
      ],
      "execution_count": 135,
      "outputs": []
    },
    {
      "cell_type": "markdown",
      "metadata": {
        "id": "j-4loUtso866"
      },
      "source": [
        "하기 그래프를 통해 60% 이상의 1등석 승객들이 살고, 30% 미만의 3등석 승객들이 사망한 것을 확인할 수 있다.\n",
        "\n",
        "이는 좋은 지표이다."
      ]
    },
    {
      "cell_type": "code",
      "metadata": {
        "colab": {
          "base_uri": "https://localhost:8080/",
          "height": 279
        },
        "id": "8CYjZ1Hzjbrs",
        "outputId": "c39029e4-a9d6-483f-ce27-f9a72a207f77"
      },
      "source": [
        "sns.barplot(x=\"Pclass\", y=\"Survived\", data=train_x);"
      ],
      "execution_count": 136,
      "outputs": [
        {
          "output_type": "display_data",
          "data": {
            "image/png": "[encoded data removed]",
            "text/plain": [
              "<Figure size 432x288 with 1 Axes>"
            ]
          },
          "metadata": {
            "tags": [],
            "needs_background": "light"
          }
        }
      ]
    },
    {
      "cell_type": "markdown",
      "metadata": {
        "id": "T2UYZRpZpGXX"
      },
      "source": [
        "하기 그래프를 통해, 성별과 생존 여부 간의 관계를 확인할 수 있다. \n",
        "\n",
        "여성은 70% 이상이 생존한 반면, 남성은 20% 정도만 생존한 것을 알 수 있다."
      ]
    },
    {
      "cell_type": "code",
      "metadata": {
        "colab": {
          "base_uri": "https://localhost:8080/",
          "height": 279
        },
        "id": "w2UHaelEjbzs",
        "outputId": "683cc52e-88fa-4fc6-cae4-57b7633fb4b8"
      },
      "source": [
        "sns.barplot(x=\"Sex\", y=\"Survived\", data=train_x);"
      ],
      "execution_count": 137,
      "outputs": [
        {
          "output_type": "display_data",
          "data": {
            "image/png": "[encoded data removed]",
            "text/plain": [
              "<Figure size 432x288 with 1 Axes>"
            ]
          },
          "metadata": {
            "tags": [],
            "needs_background": "light"
          }
        }
      ]
    },
    {
      "cell_type": "markdown",
      "metadata": {
        "id": "tWSmpSPOqGK7"
      },
      "source": [
        "make_bins Method를 이용하는 것도 가능하지만, \\\n",
        "대신에 seaborn 함수를 사용하여 나이와 생존 여부 간의 관계를 확인한다."
      ]
    },
    {
      "cell_type": "code",
      "metadata": {
        "colab": {
          "base_uri": "https://localhost:8080/",
          "height": 225
        },
        "id": "OXBuc-fujb12",
        "outputId": "7c4be944-bce1-46aa-f044-48e1c549a1d5"
      },
      "source": [
        "g = sns.FacetGrid(train_x, col='Survived')\n",
        "g.map(plt.hist, 'Age', bins=20);"
      ],
      "execution_count": 138,
      "outputs": [
        {
          "output_type": "display_data",
          "data": {
            "image/png": "[encoded data removed]",
            "text/plain": [
              "<Figure size 432x216 with 2 Axes>"
            ]
          },
          "metadata": {
            "tags": [],
            "needs_background": "light"
          }
        }
      ]
    },
    {
      "cell_type": "markdown",
      "metadata": {
        "id": "7AMuYUFUq3eQ"
      },
      "source": [
        "#### Adding a feature of our own\n",
        "\n",
        "우리는 상기 시각화를 통해 유의미한 변수들을 골라냈다.\n",
        "(위에서 언급되지 않은 변수들은 시각화 과정에서 걸러낸 변수들이다) \\\n",
        "\n",
        "하지만, 이름이라는 변수는 위애서 검토하지 않았다.\n",
        "\n",
        "이름이라는 변수는 생존의 원인이 되기 어렵다. 하지만, 변수를 세심하게 살펴보면 흥미로운 특징을 발견할 수 있다."
      ]
    },
    {
      "cell_type": "code",
      "metadata": {
        "colab": {
          "base_uri": "https://localhost:8080/",
          "height": 142
        },
        "id": "YqJecg2jjb2o",
        "outputId": "4dd1079a-67cc-4254-965f-65ec35cf929a"
      },
      "source": [
        "train_x.head(3)"
      ],
      "execution_count": 139,
      "outputs": [
        {
          "output_type": "execute_result",
          "data": {
            "text/html": [
              "<div>\n",
              "<style scoped>\n",
              "    .dataframe tbody tr th:only-of-type {\n",
              "        vertical-align: middle;\n",
              "    }\n",
              "\n",
              "    .dataframe tbody tr th {\n",
              "        vertical-align: top;\n",
              "    }\n",
              "\n",
              "    .dataframe thead th {\n",
              "        text-align: right;\n",
              "    }\n",
              "</style>\n",
              "<table border=\"1\" class=\"dataframe\">\n",
              "  <thead>\n",
              "    <tr style=\"text-align: right;\">\n",
              "      <th></th>\n",
              "      <th>PassengerId</th>\n",
              "      <th>Survived</th>\n",
              "      <th>Pclass</th>\n",
              "      <th>Name</th>\n",
              "      <th>Sex</th>\n",
              "      <th>Age</th>\n",
              "      <th>SibSp</th>\n",
              "      <th>Parch</th>\n",
              "      <th>Ticket</th>\n",
              "      <th>Fare</th>\n",
              "      <th>Cabin</th>\n",
              "      <th>Embarked</th>\n",
              "    </tr>\n",
              "  </thead>\n",
              "  <tbody>\n",
              "    <tr>\n",
              "      <th>0</th>\n",
              "      <td>1</td>\n",
              "      <td>0</td>\n",
              "      <td>3</td>\n",
              "      <td>Braund, Mr. Owen Harris</td>\n",
              "      <td>male</td>\n",
              "      <td>22.0</td>\n",
              "      <td>1</td>\n",
              "      <td>0</td>\n",
              "      <td>A/5 21171</td>\n",
              "      <td>7.2500</td>\n",
              "      <td>NaN</td>\n",
              "      <td>S</td>\n",
              "    </tr>\n",
              "    <tr>\n",
              "      <th>1</th>\n",
              "      <td>2</td>\n",
              "      <td>1</td>\n",
              "      <td>1</td>\n",
              "      <td>Cumings, Mrs. John Bradley (Florence Briggs Th...</td>\n",
              "      <td>female</td>\n",
              "      <td>38.0</td>\n",
              "      <td>1</td>\n",
              "      <td>0</td>\n",
              "      <td>PC 17599</td>\n",
              "      <td>71.2833</td>\n",
              "      <td>C85</td>\n",
              "      <td>C</td>\n",
              "    </tr>\n",
              "    <tr>\n",
              "      <th>2</th>\n",
              "      <td>3</td>\n",
              "      <td>1</td>\n",
              "      <td>3</td>\n",
              "      <td>Heikkinen, Miss. Laina</td>\n",
              "      <td>female</td>\n",
              "      <td>26.0</td>\n",
              "      <td>0</td>\n",
              "      <td>0</td>\n",
              "      <td>STON/O2. 3101282</td>\n",
              "      <td>7.9250</td>\n",
              "      <td>NaN</td>\n",
              "      <td>S</td>\n",
              "    </tr>\n",
              "  </tbody>\n",
              "</table>\n",
              "</div>"
            ],
            "text/plain": [
              "   PassengerId  Survived  Pclass  ...     Fare Cabin  Embarked\n",
              "0            1         0       3  ...   7.2500   NaN         S\n",
              "1            2         1       1  ...  71.2833   C85         C\n",
              "2            3         1       3  ...   7.9250   NaN         S\n",
              "\n",
              "[3 rows x 12 columns]"
            ]
          },
          "metadata": {
            "tags": []
          },
          "execution_count": 139
        }
      ]
    },
    {
      "cell_type": "markdown",
      "metadata": {
        "id": "iHTaztq8rPRi"
      },
      "source": [
        "이름은 단순히 이름만을 명시하는 것이 아니라, Mr, Mrs와 같은 호칭도 명시되어 있다는 것을 파악할 수 있다.\n",
        "\n",
        "귀족이 구명 보트에 더 먼저 탑승할 것이라는 가설을 세워볼 수 있는 것이다.\n",
        "\n",
        "우리는 정규 표현식을 사용할 수 있는 Pandas의 특성을 통해 이에 대해서 빠르게 파싱해볼 수 있다."
      ]
    },
    {
      "cell_type": "code",
      "metadata": {
        "id": "QeWwGjC7jb3Z"
      },
      "source": [
        "train_x['Title'] = train_x.Name.str.extract(' ([A-Za-z]+)\\.', expand=False)"
      ],
      "execution_count": 140,
      "outputs": []
    },
    {
      "cell_type": "code",
      "metadata": {
        "colab": {
          "base_uri": "https://localhost:8080/"
        },
        "id": "oTceUPPUjb4K",
        "outputId": "437293f4-5247-4ab6-c968-4087ced47e87"
      },
      "source": [
        "train_x['Title'].value_counts()"
      ],
      "execution_count": 141,
      "outputs": [
        {
          "output_type": "execute_result",
          "data": {
            "text/plain": [
              "Mr          517\n",
              "Miss        182\n",
              "Mrs         125\n",
              "Master       40\n",
              "Dr            7\n",
              "Rev           6\n",
              "Mlle          2\n",
              "Major         2\n",
              "Col           2\n",
              "Sir           1\n",
              "Lady          1\n",
              "Capt          1\n",
              "Don           1\n",
              "Mme           1\n",
              "Countess      1\n",
              "Ms            1\n",
              "Jonkheer      1\n",
              "Name: Title, dtype: int64"
            ]
          },
          "metadata": {
            "tags": []
          },
          "execution_count": 141
        }
      ]
    },
    {
      "cell_type": "markdown",
      "metadata": {
        "id": "APD0XGPZrqS_"
      },
      "source": [
        "거의 나타나지 않는 값을 제거한다.\n",
        "거의 나타나지 않는 모든 값들을 'Rare'로 묶고,\n",
        "\n",
        "'Ms'와 'Mile'을 'Miss'로 통합한다.\n",
        "또한, 'Mme'를 'Mrs'로 통합한다."
      ]
    },
    {
      "cell_type": "code",
      "metadata": {
        "id": "3MEFG-e8jb44"
      },
      "source": [
        "train_x['Title'] = train_x['Title'].replace(['Lady', 'Countess','Capt', 'Col', 'Don',\\\n",
        "                                             'Dr', 'Major', 'Rev', 'Sir', 'Jonkheer', 'Dona'],\\\n",
        "                                             'Rare')\n",
        "train_x['Title'] = train_x['Title'].replace('Mlle', 'Miss')\n",
        "train_x['Title'] = train_x['Title'].replace('Ms', 'Miss')\n",
        "train_x['Title'] = train_x['Title'].replace('Mme', 'Mrs')"
      ],
      "execution_count": 142,
      "outputs": []
    },
    {
      "cell_type": "code",
      "metadata": {
        "colab": {
          "base_uri": "https://localhost:8080/",
          "height": 279
        },
        "id": "4rg6_5iur4cG",
        "outputId": "aeddf12d-0c76-4f33-9ab7-918b4abe1701"
      },
      "source": [
        "sns.barplot(x=\"Title\", y=\"Survived\", data=train_x);"
      ],
      "execution_count": 143,
      "outputs": [
        {
          "output_type": "display_data",
          "data": {
            "image/png": "[encoded data removed]",
            "text/plain": [
              "<Figure size 432x288 with 1 Axes>"
            ]
          },
          "metadata": {
            "tags": [],
            "needs_background": "light"
          }
        }
      ]
    },
    {
      "cell_type": "markdown",
      "metadata": {
        "id": "ac074l66r6zd"
      },
      "source": [
        "상기 그래프를 통해 확인해본 결과, 추가로 정보를 얻을 수 있었다.\n",
        "\n",
        "남자는 일반적으로 살아남지 못했음에도, 귀족(Master)의 타이틀을 가지고 있는 사람은 거의 60%가 생존하였다.\n",
        "\n",
        "'Rare' 호칭을 가진 남성은 조금 더 생존하였다.\n",
        "\n",
        "호칭이라는 변수가 의미를 가지는 것을 발견하였기에, 이를 숫자 형태로 바꾸어 모델에 맞추어보자."
      ]
    },
    {
      "cell_type": "code",
      "metadata": {
        "id": "8aT3F9Ujr4Zg"
      },
      "source": [
        "_, train_x['Title'] = np.unique(train_x['Title'], return_inverse=True)"
      ],
      "execution_count": 144,
      "outputs": []
    },
    {
      "cell_type": "code",
      "metadata": {
        "colab": {
          "base_uri": "https://localhost:8080/"
        },
        "id": "vbX8mExYr4Xt",
        "outputId": "fbece2af-0c00-4123-d7e0-ef6a0d422679"
      },
      "source": [
        "train_x['Title'].head(10)"
      ],
      "execution_count": 145,
      "outputs": [
        {
          "output_type": "execute_result",
          "data": {
            "text/plain": [
              "0    2\n",
              "1    3\n",
              "2    1\n",
              "3    3\n",
              "4    2\n",
              "5    2\n",
              "6    2\n",
              "7    0\n",
              "8    3\n",
              "9    3\n",
              "Name: Title, dtype: int64"
            ]
          },
          "metadata": {
            "tags": []
          },
          "execution_count": 145
        }
      ]
    },
    {
      "cell_type": "markdown",
      "metadata": {
        "id": "ecVs4gU_sSFi"
      },
      "source": [
        "상기 분석들을 통해, '좌석 등급', '성별'이 의미있는 indicator인 것을 확인하였다.\n",
        "\n",
        "'나이'는 그닥 좋은 변수인지는 모르겠으나, 필요하다면 추가할 것을 염두에 두고 분석을 시작해볼 수 있다."
      ]
    },
    {
      "cell_type": "markdown",
      "metadata": {
        "id": "_-IKBBp5sgFz"
      },
      "source": [
        "#### Cleaning Up (데이터 전처리)\n",
        "\n",
        "Data set을 정돈해보자.\n",
        "\n",
        "필요 없는 Column을 정리하고, \\\n",
        "null 값을 모두 제거한 뒤, \\\n",
        "성별이라는 변수를 숫자로 바꿀 것이다."
      ]
    },
    {
      "cell_type": "code",
      "metadata": {
        "id": "4pfz2cBDr4VW"
      },
      "source": [
        "train_x.drop(['SibSp', 'Parch', 'Ticket', 'Embarked', 'Name',\\\n",
        "        'Cabin', 'PassengerId', 'Fare', 'Age'], inplace=True, axis=1)"
      ],
      "execution_count": 146,
      "outputs": []
    },
    {
      "cell_type": "code",
      "metadata": {
        "id": "FkMci5CYr4Sv"
      },
      "source": [
        "train_x.dropna(inplace=True)"
      ],
      "execution_count": 147,
      "outputs": []
    },
    {
      "cell_type": "code",
      "metadata": {
        "id": "QB3KKhtVr4Qn"
      },
      "source": [
        "_, train_x['Sex'] = np.unique(train_x['Sex'], return_inverse=True)"
      ],
      "execution_count": 148,
      "outputs": []
    },
    {
      "cell_type": "markdown",
      "metadata": {
        "id": "F_0USVjGsytZ"
      },
      "source": [
        "이러한 데이터를 모델에 집어 넣기 위하여 \\\n",
        "특징과 타겟을 나누고, \\\n",
        "타겟 리스트의 배열을 정돈한다.\n"
      ]
    },
    {
      "cell_type": "code",
      "metadata": {
        "id": "Sq2lQOOYr4OW"
      },
      "source": [
        "train_y = np.ravel(train_x.Survived) # Make 1D\n",
        "train_x.drop(['Survived'], inplace=True, axis=1)"
      ],
      "execution_count": 149,
      "outputs": []
    },
    {
      "cell_type": "markdown",
      "metadata": {
        "id": "fNuSkiS8s-Lf"
      },
      "source": [
        "#### Keras Model (케라스 모델)\n",
        "\n",
        "우리는 분류 문제를 다루고 있기 때문에 Logistic Regression에서 사용하는 sigmoid 레이어를 사용할 것이다.\n",
        "\n",
        "하지만 이 전에, 2개의 fully-connected 레이어 Relu 활성화 함수를 사용하여 추가하였다."
      ]
    },
    {
      "cell_type": "code",
      "metadata": {
        "id": "UKt7djSNr3n4"
      },
      "source": [
        "from keras.models import Sequential\n",
        "from keras.layers import Dense\n",
        "\n",
        "model = Sequential()\n",
        "\n",
        "model.add(Dense(16, activation='relu', input_shape=(3,)))\n",
        "model.add(Dense(8, activation='relu'))\n",
        "model.add(Dense(1, activation='sigmoid'))"
      ],
      "execution_count": 150,
      "outputs": []
    },
    {
      "cell_type": "markdown",
      "metadata": {
        "id": "bkEkaum6t5-e"
      },
      "source": [
        "그 후, network를 compile한다.\n",
        "\n",
        "두 개의 target classes가 있기 때문에, binary cross-entorpy loss function을 사용한다.\n",
        "\n",
        "adam optimizer는 gradien-descent option의 default로, 좋은 성능을 발휘한다.\n",
        "\n",
        "또한, 평가기준은 accuracy를 사용한다."
      ]
    },
    {
      "cell_type": "code",
      "metadata": {
        "id": "kgoClPWbtTOc"
      },
      "source": [
        "model.compile(loss='binary_crossentropy',\n",
        "              optimizer='adam',\n",
        "              metrics=['accuracy'])"
      ],
      "execution_count": 151,
      "outputs": []
    },
    {
      "cell_type": "markdown",
      "metadata": {
        "id": "RBxfGkiuuK_b"
      },
      "source": [
        "model을 주어진 데이터에 대하여 fit시키는 것으로 해당 실습을 마무리할 수 있다."
      ]
    },
    {
      "cell_type": "code",
      "metadata": {
        "colab": {
          "base_uri": "https://localhost:8080/"
        },
        "id": "BLt6cAxctTNB",
        "outputId": "33593318-c3c2-4ec1-8135-ca739ec323bd"
      },
      "source": [
        "model.fit(train_x, train_y, epochs=50, batch_size=1, verbose=1)"
      ],
      "execution_count": 152,
      "outputs": [
        {
          "output_type": "stream",
          "text": [
            "Epoch 1/50\n",
            "891/891 [==============================] - 1s 1ms/step - loss: 0.6206 - accuracy: 0.6434\n",
            "Epoch 2/50\n",
            "891/891 [==============================] - 1s 1ms/step - loss: 0.5056 - accuracy: 0.7736\n",
            "Epoch 3/50\n",
            "891/891 [==============================] - 1s 1ms/step - loss: 0.4911 - accuracy: 0.7902\n",
            "Epoch 4/50\n",
            "891/891 [==============================] - 1s 1ms/step - loss: 0.4658 - accuracy: 0.7839\n",
            "Epoch 5/50\n",
            "891/891 [==============================] - 1s 1ms/step - loss: 0.4789 - accuracy: 0.7764\n",
            "Epoch 6/50\n",
            "891/891 [==============================] - 1s 1ms/step - loss: 0.4349 - accuracy: 0.7842\n",
            "Epoch 7/50\n",
            "891/891 [==============================] - 1s 1ms/step - loss: 0.4692 - accuracy: 0.7732\n",
            "Epoch 8/50\n",
            "891/891 [==============================] - 1s 1ms/step - loss: 0.4564 - accuracy: 0.7881\n",
            "Epoch 9/50\n",
            "891/891 [==============================] - 1s 1ms/step - loss: 0.4483 - accuracy: 0.7933\n",
            "Epoch 10/50\n",
            "891/891 [==============================] - 1s 1ms/step - loss: 0.4287 - accuracy: 0.7950\n",
            "Epoch 11/50\n",
            "891/891 [==============================] - 1s 1ms/step - loss: 0.4540 - accuracy: 0.7797\n",
            "Epoch 12/50\n",
            "891/891 [==============================] - 1s 1ms/step - loss: 0.4543 - accuracy: 0.7745\n",
            "Epoch 13/50\n",
            "891/891 [==============================] - 1s 1ms/step - loss: 0.4077 - accuracy: 0.8228\n",
            "Epoch 14/50\n",
            "891/891 [==============================] - 1s 1ms/step - loss: 0.4473 - accuracy: 0.7976\n",
            "Epoch 15/50\n",
            "891/891 [==============================] - 1s 1ms/step - loss: 0.4426 - accuracy: 0.8031\n",
            "Epoch 16/50\n",
            "891/891 [==============================] - 1s 1ms/step - loss: 0.4433 - accuracy: 0.7912\n",
            "Epoch 17/50\n",
            "891/891 [==============================] - 1s 1ms/step - loss: 0.4391 - accuracy: 0.8058\n",
            "Epoch 18/50\n",
            "891/891 [==============================] - 1s 1ms/step - loss: 0.4462 - accuracy: 0.7706\n",
            "Epoch 19/50\n",
            "891/891 [==============================] - 1s 1ms/step - loss: 0.4616 - accuracy: 0.7797\n",
            "Epoch 20/50\n",
            "891/891 [==============================] - 1s 1ms/step - loss: 0.4357 - accuracy: 0.7993\n",
            "Epoch 21/50\n",
            "891/891 [==============================] - 1s 1ms/step - loss: 0.4407 - accuracy: 0.7895\n",
            "Epoch 22/50\n",
            "891/891 [==============================] - 1s 1ms/step - loss: 0.4385 - accuracy: 0.7708\n",
            "Epoch 23/50\n",
            "891/891 [==============================] - 1s 1ms/step - loss: 0.4386 - accuracy: 0.7877\n",
            "Epoch 24/50\n",
            "891/891 [==============================] - 1s 1ms/step - loss: 0.4362 - accuracy: 0.7914\n",
            "Epoch 25/50\n",
            "891/891 [==============================] - 1s 1ms/step - loss: 0.4224 - accuracy: 0.7863\n",
            "Epoch 26/50\n",
            "891/891 [==============================] - 1s 1ms/step - loss: 0.4288 - accuracy: 0.8099\n",
            "Epoch 27/50\n",
            "891/891 [==============================] - 1s 1ms/step - loss: 0.4684 - accuracy: 0.7930\n",
            "Epoch 28/50\n",
            "891/891 [==============================] - 1s 1ms/step - loss: 0.4213 - accuracy: 0.7974\n",
            "Epoch 29/50\n",
            "891/891 [==============================] - 1s 1ms/step - loss: 0.4091 - accuracy: 0.8088\n",
            "Epoch 30/50\n",
            "891/891 [==============================] - 1s 1ms/step - loss: 0.4188 - accuracy: 0.7935\n",
            "Epoch 31/50\n",
            "891/891 [==============================] - 1s 1ms/step - loss: 0.4324 - accuracy: 0.7837\n",
            "Epoch 32/50\n",
            "891/891 [==============================] - 1s 1ms/step - loss: 0.4482 - accuracy: 0.7695\n",
            "Epoch 33/50\n",
            "891/891 [==============================] - 1s 1ms/step - loss: 0.4160 - accuracy: 0.7986\n",
            "Epoch 34/50\n",
            "891/891 [==============================] - 1s 1ms/step - loss: 0.4164 - accuracy: 0.8063\n",
            "Epoch 35/50\n",
            "891/891 [==============================] - 1s 1ms/step - loss: 0.4449 - accuracy: 0.7620\n",
            "Epoch 36/50\n",
            "891/891 [==============================] - 1s 1ms/step - loss: 0.4185 - accuracy: 0.7921\n",
            "Epoch 37/50\n",
            "891/891 [==============================] - 1s 1ms/step - loss: 0.4472 - accuracy: 0.7757\n",
            "Epoch 38/50\n",
            "891/891 [==============================] - 1s 1ms/step - loss: 0.4253 - accuracy: 0.8124\n",
            "Epoch 39/50\n",
            "891/891 [==============================] - 1s 1ms/step - loss: 0.4096 - accuracy: 0.8235\n",
            "Epoch 40/50\n",
            "891/891 [==============================] - 1s 1ms/step - loss: 0.4121 - accuracy: 0.7994\n",
            "Epoch 41/50\n",
            "891/891 [==============================] - 1s 1ms/step - loss: 0.3920 - accuracy: 0.8079\n",
            "Epoch 42/50\n",
            "891/891 [==============================] - 1s 1ms/step - loss: 0.4191 - accuracy: 0.7910\n",
            "Epoch 43/50\n",
            "891/891 [==============================] - 1s 1ms/step - loss: 0.4041 - accuracy: 0.8019\n",
            "Epoch 44/50\n",
            "891/891 [==============================] - 1s 1ms/step - loss: 0.4205 - accuracy: 0.7754\n",
            "Epoch 45/50\n",
            "891/891 [==============================] - 1s 1ms/step - loss: 0.4439 - accuracy: 0.7827\n",
            "Epoch 46/50\n",
            "891/891 [==============================] - 1s 1ms/step - loss: 0.4480 - accuracy: 0.7876\n",
            "Epoch 47/50\n",
            "891/891 [==============================] - 1s 1ms/step - loss: 0.4334 - accuracy: 0.7769\n",
            "Epoch 48/50\n",
            "891/891 [==============================] - 1s 1ms/step - loss: 0.4220 - accuracy: 0.7909\n",
            "Epoch 49/50\n",
            "891/891 [==============================] - 1s 1ms/step - loss: 0.4025 - accuracy: 0.8215\n",
            "Epoch 50/50\n",
            "891/891 [==============================] - 1s 1ms/step - loss: 0.4143 - accuracy: 0.8087\n"
          ],
          "name": "stdout"
        },
        {
          "output_type": "execute_result",
          "data": {
            "text/plain": [
              "<tensorflow.python.keras.callbacks.History at 0x7f3bc9f195d0>"
            ]
          },
          "metadata": {
            "tags": []
          },
          "execution_count": 152
        }
      ]
    },
    {
      "cell_type": "markdown",
      "metadata": {
        "id": "bWRfsmgtucpR"
      },
      "source": [
        "약 80% 정도의 정확도를 보여주는 것을 볼 수 있다. \\\n",
        "\n",
        "test 데이터 셋을 준비하여, 이를 test 하고 해당 실습을 마무리 지을 수 있다."
      ]
    },
    {
      "cell_type": "code",
      "metadata": {
        "id": "c-pemjt1tZx4"
      },
      "source": [
        "to_test = test_x.copy(True)\n",
        "\n",
        "# Add Title\n",
        "to_test['Title'] = to_test.Name.str.extract(' ([A-Za-z]+)\\.', expand=False)\n",
        "to_test['Title'] = to_test['Title'].replace(['Lady', 'Countess','Capt', 'Col', 'Don',\\\n",
        "                                                'Dr', 'Major', 'Rev', 'Sir', 'Jonkheer', 'Dona'],\\\n",
        "                                                'Rare')\n",
        "to_test['Title'] = to_test['Title'].replace('Mlle', 'Miss')\n",
        "to_test['Title'] = to_test['Title'].replace('Ms', 'Miss')\n",
        "to_test['Title'] = to_test['Title'].replace('Mme', 'Mrs')\n",
        "\n",
        "_, to_test['Title'] = np.unique(to_test['Title'], return_inverse=True)\n",
        "\n",
        "# Clean Data\n",
        "to_test = to_test.drop(['SibSp', 'Parch', 'Ticket', 'Embarked', 'Name', 'Cabin',\\\n",
        "                        'PassengerId', 'Fare', 'Age'], axis=1)\n",
        "_, to_test['Sex'] = np.unique(test_x['Sex'], return_inverse=True)"
      ],
      "execution_count": 153,
      "outputs": []
    },
    {
      "cell_type": "code",
      "metadata": {
        "colab": {
          "base_uri": "https://localhost:8080/"
        },
        "id": "HSrz_g1gtTJz",
        "outputId": "dab21e42-d526-47da-e22a-c0017b91d242"
      },
      "source": [
        "predictions = model.predict_classes(to_test).flatten()\n",
        "predictions[:5]"
      ],
      "execution_count": 154,
      "outputs": [
        {
          "output_type": "stream",
          "text": [
            "/usr/local/lib/python3.7/dist-packages/tensorflow/python/keras/engine/sequential.py:450: UserWarning: `model.predict_classes()` is deprecated and will be removed after 2021-01-01. Please use instead:* `np.argmax(model.predict(x), axis=-1)`,   if your model does multi-class classification   (e.g. if it uses a `softmax` last-layer activation).* `(model.predict(x) > 0.5).astype(\"int32\")`,   if your model does binary classification   (e.g. if it uses a `sigmoid` last-layer activation).\n",
            "  warnings.warn('`model.predict_classes()` is deprecated and '\n"
          ],
          "name": "stderr"
        },
        {
          "output_type": "execute_result",
          "data": {
            "text/plain": [
              "array([0, 0, 0, 0, 0], dtype=int32)"
            ]
          },
          "metadata": {
            "tags": []
          },
          "execution_count": 154
        }
      ]
    },
    {
      "cell_type": "code",
      "metadata": {
        "colab": {
          "base_uri": "https://localhost:8080/",
          "height": 419
        },
        "id": "s9dmtoz1uXbC",
        "outputId": "d7a8149a-361c-405d-977c-5bf0bd3bcc70"
      },
      "source": [
        "submission = pd.DataFrame({\n",
        "    \"PassengerId\": test_x[\"PassengerId\"],\n",
        "    \"Survived\": predictions\n",
        "})\n",
        "submission"
      ],
      "execution_count": 155,
      "outputs": [
        {
          "output_type": "execute_result",
          "data": {
            "text/html": [
              "<div>\n",
              "<style scoped>\n",
              "    .dataframe tbody tr th:only-of-type {\n",
              "        vertical-align: middle;\n",
              "    }\n",
              "\n",
              "    .dataframe tbody tr th {\n",
              "        vertical-align: top;\n",
              "    }\n",
              "\n",
              "    .dataframe thead th {\n",
              "        text-align: right;\n",
              "    }\n",
              "</style>\n",
              "<table border=\"1\" class=\"dataframe\">\n",
              "  <thead>\n",
              "    <tr style=\"text-align: right;\">\n",
              "      <th></th>\n",
              "      <th>PassengerId</th>\n",
              "      <th>Survived</th>\n",
              "    </tr>\n",
              "  </thead>\n",
              "  <tbody>\n",
              "    <tr>\n",
              "      <th>0</th>\n",
              "      <td>892</td>\n",
              "      <td>0</td>\n",
              "    </tr>\n",
              "    <tr>\n",
              "      <th>1</th>\n",
              "      <td>893</td>\n",
              "      <td>0</td>\n",
              "    </tr>\n",
              "    <tr>\n",
              "      <th>2</th>\n",
              "      <td>894</td>\n",
              "      <td>0</td>\n",
              "    </tr>\n",
              "    <tr>\n",
              "      <th>3</th>\n",
              "      <td>895</td>\n",
              "      <td>0</td>\n",
              "    </tr>\n",
              "    <tr>\n",
              "      <th>4</th>\n",
              "      <td>896</td>\n",
              "      <td>0</td>\n",
              "    </tr>\n",
              "    <tr>\n",
              "      <th>...</th>\n",
              "      <td>...</td>\n",
              "      <td>...</td>\n",
              "    </tr>\n",
              "    <tr>\n",
              "      <th>413</th>\n",
              "      <td>1305</td>\n",
              "      <td>0</td>\n",
              "    </tr>\n",
              "    <tr>\n",
              "      <th>414</th>\n",
              "      <td>1306</td>\n",
              "      <td>1</td>\n",
              "    </tr>\n",
              "    <tr>\n",
              "      <th>415</th>\n",
              "      <td>1307</td>\n",
              "      <td>0</td>\n",
              "    </tr>\n",
              "    <tr>\n",
              "      <th>416</th>\n",
              "      <td>1308</td>\n",
              "      <td>0</td>\n",
              "    </tr>\n",
              "    <tr>\n",
              "      <th>417</th>\n",
              "      <td>1309</td>\n",
              "      <td>1</td>\n",
              "    </tr>\n",
              "  </tbody>\n",
              "</table>\n",
              "<p>418 rows × 2 columns</p>\n",
              "</div>"
            ],
            "text/plain": [
              "     PassengerId  Survived\n",
              "0            892         0\n",
              "1            893         0\n",
              "2            894         0\n",
              "3            895         0\n",
              "4            896         0\n",
              "..           ...       ...\n",
              "413         1305         0\n",
              "414         1306         1\n",
              "415         1307         0\n",
              "416         1308         0\n",
              "417         1309         1\n",
              "\n",
              "[418 rows x 2 columns]"
            ]
          },
          "metadata": {
            "tags": []
          },
          "execution_count": 155
        }
      ]
    }
  ]
}