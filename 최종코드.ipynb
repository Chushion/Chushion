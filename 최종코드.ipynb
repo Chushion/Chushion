{
 "cells": [
  {
   "cell_type": "code",
   "execution_count": 3,
   "metadata": {},
   "outputs": [],
   "source": [
    "from selenium import webdriver\n",
    "import time\n",
    "import pandas as pd\n",
    "from webdriver_manager.chrome import ChromeDriverManager"
   ]
  },
  {
   "cell_type": "code",
   "execution_count": 4,
   "metadata": {},
   "outputs": [],
   "source": [
    "from bs4 import BeautifulSoup\n",
    "from selenium.webdriver import Chrome\n",
    "\n",
    "from selenium.webdriver.common.by import By\n",
    "from selenium.webdriver.support.ui import WebDriverWait\n",
    "from selenium.webdriver.support import expected_conditions as EC"
   ]
  },
  {
   "cell_type": "code",
   "execution_count": 7,
   "metadata": {},
   "outputs": [
    {
     "name": "stderr",
     "output_type": "stream",
     "text": [
      "[WDM] - ====== WebDriver manager ======\n",
      "[WDM] - Current google-chrome version is 88.0.4324\n",
      "[WDM] - Get LATEST driver version for 88.0.4324\n"
     ]
    },
    {
     "name": "stdout",
     "output_type": "stream",
     "text": [
      "\n",
      "\n"
     ]
    },
    {
     "name": "stderr",
     "output_type": "stream",
     "text": [
      "[WDM] - Driver [/Users/eddyd/.wdm/drivers/chromedriver/mac64/88.0.4324.96/chromedriver] found in cache\n"
     ]
    },
    {
     "name": "stdout",
     "output_type": "stream",
     "text": [
      "45\n"
     ]
    }
   ],
   "source": [
    "url_str = \"https://www.tripadvisor.co.kr/Hotel_Review-g294265-d1770798-Reviews-or\"\n",
    "url_num = str(0)\n",
    "url_keyword = \"-Marina_Bay_Sands-Singapore.html\"\n",
    "\n",
    "total_url = url_str + url_num + url_keyword\n",
    "driver = webdriver.Chrome(ChromeDriverManager().install())\n",
    "driver.get(total_url)\n",
    "    \n",
    "time.sleep(3)\n",
    "\n",
    "f=open(\"/users/eddyd/desktop/트립어드바이저1.txt\", \"a\", encoding=\"utf-8\")\n",
    "    \n",
    "intrd = driver.find_elements_by_css_selector(\".kVNDLtqL\")\n",
    "intrd_rate = intrd[0].find_element_by_css_selector(\".ui_bubble_rating\")\n",
    "    \n",
    "cls_attr = intrd_rate.get_attribute(\"class\")\n",
    "cls_attr = str(cls_attr).split(\"ui_bubble_rating bubble_\")\n",
    "\n",
    "score = str(cls_attr[1])\n",
    "print(score)\n",
    "    \n",
    "time.sleep(3)\n",
    "\n",
    "a = driver.find_element_by_css_selector('#ABOUT_TAB > div.ui_columns._318JyS8B > div:nth-child(1) > div:nth-child(3) > span')\n",
    "cls_a = a.get_attribute(\"class\")\n",
    "b = driver.find_element_by_css_selector('#ABOUT_TAB > div.ui_columns._318JyS8B > div:nth-child(1) > div:nth-child(4) > span')\n",
    "cls_b = b.get_attribute(\"class\")\n",
    "c = driver.find_element_by_css_selector('#ABOUT_TAB > div.ui_columns._318JyS8B > div:nth-child(1) > div:nth-child(5) > span')\n",
    "cls_c = c.get_attribute(\"class\")\n",
    "d = driver.find_element_by_css_selector('#ABOUT_TAB > div.ui_columns._318JyS8B > div:nth-child(1) > div._1krg1t5y.QrxaKkaW > span')\n",
    "cls_d = d.get_attribute(\"class\")\n",
    "\n",
    "cls_a_a = str(cls_a).split(\"ui_bubble_rating bubble_\")\n",
    "scorea = str(cls_a_a[1])\n",
    "cls_b_a = str(cls_b).split(\"ui_bubble_rating bubble_\")\n",
    "scoreb = str(cls_b_a[1])\n",
    "cls_c_a = str(cls_c).split(\"ui_bubble_rating bubble_\")\n",
    "scorec = str(cls_c_a[1])\n",
    "cls_d_a = str(cls_d).split(\"ui_bubble_rating bubble_\")\n",
    "scored = str(cls_d_a[1])\n",
    "\n",
    "time.sleep(3)\n",
    "\n",
    "f.write(\"장소: \" + scorea)\n",
    "f.write(\"\\n\\n\")\n",
    "f.write(\"청결도: \" + scoreb)\n",
    "f.write(\"\\n\\n\")\n",
    "f.write(\"서비스: \" + scorec)\n",
    "f.write(\"\\n\\n\")\n",
    "f.write(\"가격: \" + scored)\n",
    "f.write(\"\\n\\n\")\n",
    "f.close()"
   ]
  },
  {
   "cell_type": "code",
   "execution_count": 8,
   "metadata": {},
   "outputs": [
    {
     "name": "stderr",
     "output_type": "stream",
     "text": [
      "[WDM] - ====== WebDriver manager ======\n",
      "[WDM] - Current google-chrome version is 88.0.4324\n",
      "[WDM] - Get LATEST driver version for 88.0.4324\n"
     ]
    },
    {
     "name": "stdout",
     "output_type": "stream",
     "text": [
      "\n",
      "\n"
     ]
    },
    {
     "name": "stderr",
     "output_type": "stream",
     "text": [
      "[WDM] - Driver [/Users/eddyd/.wdm/drivers/chromedriver/mac64/88.0.4324.96/chromedriver] found in cache\n"
     ]
    },
    {
     "name": "stdout",
     "output_type": "stream",
     "text": [
      "50\n",
      "50\n",
      "50\n",
      "50\n",
      "30\n"
     ]
    },
    {
     "name": "stderr",
     "output_type": "stream",
     "text": [
      "[WDM] - ====== WebDriver manager ======\n",
      "[WDM] - Current google-chrome version is 88.0.4324\n",
      "[WDM] - Get LATEST driver version for 88.0.4324\n"
     ]
    },
    {
     "name": "stdout",
     "output_type": "stream",
     "text": [
      "\n",
      "\n"
     ]
    },
    {
     "name": "stderr",
     "output_type": "stream",
     "text": [
      "[WDM] - Driver [/Users/eddyd/.wdm/drivers/chromedriver/mac64/88.0.4324.96/chromedriver] found in cache\n"
     ]
    },
    {
     "name": "stdout",
     "output_type": "stream",
     "text": [
      "50\n",
      "50\n",
      "20\n",
      "40\n",
      "50\n"
     ]
    }
   ],
   "source": [
    "for i in range(0, 10, 5):\n",
    "    url_num = str(i)\n",
    "    \n",
    "    total_url = url_str + url_num + url_keyword\n",
    "    driver = webdriver.Chrome(ChromeDriverManager().install())\n",
    "    driver.get(total_url)\n",
    "    \n",
    "    time.sleep(3)\n",
    "    \n",
    "    more_btns = WebDriverWait(driver, 10).until(\n",
    "                    EC.presence_of_all_elements_located((By.CSS_SELECTOR,'span._3maEfNCR'))\n",
    "                    )\n",
    "    more_btns[0].click()\n",
    "    f=open(\"/users/eddyd/desktop/트립어드바이저1.txt\", \"a\", encoding=\"utf-8\")\n",
    "    \n",
    "    for j in range(0, 5, 1):\n",
    "        #전체 데이터\n",
    "        reviews = driver.find_elements_by_css_selector(\".oETBfkHU\")\n",
    "        rating_code = reviews[j].find_element_by_css_selector(\".ui_bubble_rating\")\n",
    "        \n",
    "        #평점\n",
    "        cls_attr = rating_code.get_attribute(\"class\")\n",
    "        cls_attr = str(cls_attr).split(\"ui_bubble_rating bubble_\")\n",
    "    \n",
    "        #평점 작업하기\n",
    "        score = str(cls_attr[1])\n",
    "        print(score)\n",
    "    \n",
    "        time.sleep(3)\n",
    "    \n",
    "        #본문\n",
    "        Temp_review = reviews[j].find_element_by_css_selector(\".IRsGHoPm\").text\n",
    "    \n",
    "        time.sleep(3)\n",
    "        review = Temp_review.replace(\"\\n\", \" \")\n",
    "    \n",
    "        f.write(\"\\n\\n\")\n",
    "        f.write(\"평점: \" + score)\n",
    "        f.write(\"\\n\\n\")\n",
    "        f.write(\"리뷰: \" + review)\n",
    "        f.write(\"\\n\\n\")\n",
    "f.close()"
   ]
  },
  {
   "cell_type": "code",
   "execution_count": null,
   "metadata": {},
   "outputs": [],
   "source": []
  }
 ],
 "metadata": {
  "kernelspec": {
   "display_name": "Python 3",
   "language": "python",
   "name": "python3"
  },
  "language_info": {
   "codemirror_mode": {
    "name": "ipython",
    "version": 3
   },
   "file_extension": ".py",
   "mimetype": "text/x-python",
   "name": "python",
   "nbconvert_exporter": "python",
   "pygments_lexer": "ipython3",
   "version": "3.8.5"
  }
 },
 "nbformat": 4,
 "nbformat_minor": 4
}
